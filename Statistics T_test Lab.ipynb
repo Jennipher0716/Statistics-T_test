{
 "cells": [
  {
   "cell_type": "markdown",
   "id": "violent-company",
   "metadata": {},
   "source": [
    "In a packing plant, a machine packs cartons with jars. It is supposed that a new machine will pack faster on the average than the machine currently used. To test that hypothesis, the times it takes each machine to pack ten cartons are recorded.\n",
    "\n",
    "Assume that there is sufficient evidence to conduct the t test, does the data provide sufficient evidence to show if one machine is better than the other."
   ]
  },
  {
   "cell_type": "code",
   "execution_count": 2,
   "id": "virtual-helping",
   "metadata": {},
   "outputs": [],
   "source": [
    "from scipy.stats import ttest_1samp\n",
    "from scipy.stats import norm\n",
    "import math\n",
    "from scipy.stats import t\n",
    "import statistics as stats\n",
    "import pandas as pd\n",
    "import numpy as np"
   ]
  },
  {
   "cell_type": "markdown",
   "id": "disabled-morrison",
   "metadata": {},
   "source": [
    "Data"
   ]
  },
  {
   "cell_type": "code",
   "execution_count": 3,
   "id": "dependent-conversation",
   "metadata": {},
   "outputs": [],
   "source": [
    "# om for old machine\n",
    "om= (42.7, 43.6, 43.8, 43.3, 42.5, 43.5, 43.1, 41.7, 44, 44.1)\n",
    "\n",
    "# nm for new machine\n",
    "nm= (42.1, 41.0, 41.3, 41.8, 42.4, 42.8, 43.2, 42.3, 41.8, 42.7)"
   ]
  },
  {
   "cell_type": "code",
   "execution_count": 5,
   "id": "finite-glory",
   "metadata": {},
   "outputs": [],
   "source": [
    "import numpy"
   ]
  },
  {
   "cell_type": "markdown",
   "id": "opened-berkeley",
   "metadata": {},
   "source": [
    "Old Machine"
   ]
  },
  {
   "cell_type": "code",
   "execution_count": 6,
   "id": "liable-corps",
   "metadata": {},
   "outputs": [
    {
     "name": "stdout",
     "output_type": "stream",
     "text": [
      "43.230000000000004\n"
     ]
    }
   ],
   "source": [
    "# mean\n",
    "om= (42.7, 43.6, 43.8, 43.3, 42.5, 43.5, 43.1, 41.7, 44, 44.1)\n",
    "\n",
    "dev1_mean = numpy.mean(om)\n",
    "print(dev1_mean)"
   ]
  },
  {
   "cell_type": "code",
   "execution_count": 7,
   "id": "irish-korea",
   "metadata": {},
   "outputs": [
    {
     "name": "stdout",
     "output_type": "stream",
     "text": [
      "0.5060999999999988\n"
     ]
    }
   ],
   "source": [
    "# variation\n",
    "om= (42.7, 43.6, 43.8, 43.3, 42.5, 43.5, 43.1, 41.7, 44, 44.1)\n",
    "\n",
    "dev1_var = numpy.var(om)\n",
    "print(dev1_var)"
   ]
  },
  {
   "cell_type": "code",
   "execution_count": 8,
   "id": "incorporated-messenger",
   "metadata": {},
   "outputs": [
    {
     "name": "stdout",
     "output_type": "stream",
     "text": [
      "0.7114070564732956\n"
     ]
    }
   ],
   "source": [
    "#standard deviation\n",
    "om= (42.7, 43.6, 43.8, 43.3, 42.5, 43.5, 43.1, 41.7, 44, 44.1)\n",
    "\n",
    "dev1_std = numpy.std(om)\n",
    "print(dev1_std)"
   ]
  },
  {
   "cell_type": "markdown",
   "id": "psychological-divide",
   "metadata": {},
   "source": [
    "New Machine"
   ]
  },
  {
   "cell_type": "code",
   "execution_count": 15,
   "id": "wrapped-chair",
   "metadata": {},
   "outputs": [
    {
     "name": "stdout",
     "output_type": "stream",
     "text": [
      "42.14\n"
     ]
    }
   ],
   "source": [
    "# mean\n",
    "nm= (42.1, 41.0, 41.3, 41.8, 42.4, 42.8, 43.2, 42.3, 41.8, 42.7)\n",
    "\n",
    "dev2_mean = numpy.mean(nm)\n",
    "print(dev2_mean)"
   ]
  },
  {
   "cell_type": "code",
   "execution_count": 16,
   "id": "homeless-booth",
   "metadata": {},
   "outputs": [
    {
     "name": "stdout",
     "output_type": "stream",
     "text": [
      "0.4204000000000012\n"
     ]
    }
   ],
   "source": [
    "# variation for new machine\n",
    "nm= (42.1, 41.0, 41.3, 41.8, 42.4, 42.8, 43.2, 42.3, 41.8, 42.7)\n",
    "\n",
    "dev2_var = numpy.var(nm)\n",
    "print(dev2_var)"
   ]
  },
  {
   "cell_type": "code",
   "execution_count": 17,
   "id": "passive-pepper",
   "metadata": {},
   "outputs": [
    {
     "name": "stdout",
     "output_type": "stream",
     "text": [
      "0.6483826030978941\n"
     ]
    }
   ],
   "source": [
    "# standard deviation for new machine\n",
    "nm= (42.1, 41.0, 41.3, 41.8, 42.4, 42.8, 43.2, 42.3, 41.8, 42.7)\n",
    "\n",
    "dev2_std = numpy.std(nm)\n",
    "print(dev2_std)"
   ]
  },
  {
   "cell_type": "code",
   "execution_count": 18,
   "id": "australian-colombia",
   "metadata": {},
   "outputs": [],
   "source": [
    "dev1_std = 0.71\n",
    "dev2_std = 0.64\n",
    "n1 =  10\n",
    "n2 =  10"
   ]
  },
  {
   "cell_type": "code",
   "execution_count": 20,
   "id": "streaming-bread",
   "metadata": {},
   "outputs": [
    {
     "data": {
      "text/plain": [
       "0.6749999999999999"
      ]
     },
     "execution_count": 20,
     "metadata": {},
     "output_type": "execute_result"
    }
   ],
   "source": [
    "SDpooled_sampl_std = ((n1-1)*dev1_std + (n2-1)*dev2_std)/(n1+n2-2)\n",
    "SDpooled_sampl_std"
   ]
  },
  {
   "cell_type": "markdown",
   "id": "enormous-underground",
   "metadata": {},
   "source": [
    "Testing Statistic"
   ]
  },
  {
   "cell_type": "code",
   "execution_count": 21,
   "id": "liked-ordering",
   "metadata": {},
   "outputs": [],
   "source": [
    "sampl_std = 0.674\n",
    "dev1 = 43.23\n",
    "dev2 = 42.14"
   ]
  },
  {
   "cell_type": "markdown",
   "id": "divine-butler",
   "metadata": {},
   "source": [
    "For our next code below, If the result is positive, hypothesis confirms New machine is faster and if negative then hypothesis confirms new machine is not fater than old machine."
   ]
  },
  {
   "cell_type": "code",
   "execution_count": 22,
   "id": "protected-brand",
   "metadata": {},
   "outputs": [
    {
     "data": {
      "text/plain": [
       "3.5809955894645813"
      ]
     },
     "execution_count": 22,
     "metadata": {},
     "output_type": "execute_result"
    }
   ],
   "source": [
    "t_statistic = (dev1_mean-dev2_mean)/(math.sqrt(dev1_var/n1 + dev2_var/n2)) \n",
    "t_statistic"
   ]
  }
 ],
 "metadata": {
  "kernelspec": {
   "display_name": "Python 3",
   "language": "python",
   "name": "python3"
  },
  "language_info": {
   "codemirror_mode": {
    "name": "ipython",
    "version": 3
   },
   "file_extension": ".py",
   "mimetype": "text/x-python",
   "name": "python",
   "nbconvert_exporter": "python",
   "pygments_lexer": "ipython3",
   "version": "3.8.5"
  }
 },
 "nbformat": 4,
 "nbformat_minor": 5
}
